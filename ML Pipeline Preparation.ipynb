{
 "cells": [
  {
   "cell_type": "markdown",
   "metadata": {},
   "source": [
    "# ML Pipeline Preparation\n",
    "Follow the instructions below to help you create your ML pipeline.\n",
    "### 1. Import libraries and load data from database.\n",
    "- Import Python libraries\n",
    "- Load dataset from database with [`read_sql_table`](https://pandas.pydata.org/pandas-docs/stable/generated/pandas.read_sql_table.html)\n",
    "- Define feature and target variables X and Y"
   ]
  },
  {
   "cell_type": "code",
   "execution_count": 1,
   "metadata": {},
   "outputs": [
    {
     "name": "stdout",
     "output_type": "stream",
     "text": [
      "[nltk_data] Downloading package punkt to /root/nltk_data...\n",
      "[nltk_data]   Unzipping tokenizers/punkt.zip.\n",
      "[nltk_data] Downloading package wordnet to /root/nltk_data...\n",
      "[nltk_data]   Unzipping corpora/wordnet.zip.\n"
     ]
    }
   ],
   "source": [
    "# import libraries\n",
    "import re\n",
    "import numpy as np\n",
    "import pandas as pd\n",
    "import time\n",
    "from sqlalchemy import create_engine\n",
    "\n",
    "import nltk\n",
    "nltk.download(['punkt', 'wordnet'])\n",
    "from nltk.tokenize import word_tokenize\n",
    "from nltk.stem import WordNetLemmatizer\n",
    "\n",
    "from sklearn.metrics import accuracy_score, f1_score, classification_report\n",
    "from sklearn.model_selection import train_test_split, GridSearchCV\n",
    "from sklearn.pipeline import Pipeline\n",
    "from sklearn.ensemble import RandomForestClassifier\n",
    "from sklearn.feature_extraction.text import CountVectorizer, TfidfTransformer\n",
    "from sklearn.multioutput import MultiOutputClassifier"
   ]
  },
  {
   "cell_type": "code",
   "execution_count": 2,
   "metadata": {},
   "outputs": [],
   "source": [
    "# load data from database\n",
    "engine = create_engine('sqlite:///InsertDatabaseName.db')\n",
    "df = pd.read_sql_table('InsertTableName', engine)\n",
    "X = df['message']\n",
    "y = df[[col for col in df.columns if 'category' in col]]"
   ]
  },
  {
   "cell_type": "code",
   "execution_count": 3,
   "metadata": {},
   "outputs": [
    {
     "name": "stdout",
     "output_type": "stream",
     "text": [
      "(26216,) (26216, 36)\n"
     ]
    },
    {
     "data": {
      "text/html": [
       "<div>\n",
       "<style scoped>\n",
       "    .dataframe tbody tr th:only-of-type {\n",
       "        vertical-align: middle;\n",
       "    }\n",
       "\n",
       "    .dataframe tbody tr th {\n",
       "        vertical-align: top;\n",
       "    }\n",
       "\n",
       "    .dataframe thead th {\n",
       "        text-align: right;\n",
       "    }\n",
       "</style>\n",
       "<table border=\"1\" class=\"dataframe\">\n",
       "  <thead>\n",
       "    <tr style=\"text-align: right;\">\n",
       "      <th></th>\n",
       "      <th>id</th>\n",
       "      <th>message</th>\n",
       "      <th>original</th>\n",
       "      <th>genre</th>\n",
       "      <th>category_related</th>\n",
       "      <th>category_request</th>\n",
       "      <th>category_offer</th>\n",
       "      <th>category_aid_related</th>\n",
       "      <th>category_medical_help</th>\n",
       "      <th>category_medical_products</th>\n",
       "      <th>...</th>\n",
       "      <th>category_aid_centers</th>\n",
       "      <th>category_other_infrastructure</th>\n",
       "      <th>category_weather_related</th>\n",
       "      <th>category_floods</th>\n",
       "      <th>category_storm</th>\n",
       "      <th>category_fire</th>\n",
       "      <th>category_earthquake</th>\n",
       "      <th>category_cold</th>\n",
       "      <th>category_other_weather</th>\n",
       "      <th>category_direct_report</th>\n",
       "    </tr>\n",
       "  </thead>\n",
       "  <tbody>\n",
       "    <tr>\n",
       "      <th>0</th>\n",
       "      <td>2</td>\n",
       "      <td>Weather update - a cold front from Cuba that c...</td>\n",
       "      <td>Un front froid se retrouve sur Cuba ce matin. ...</td>\n",
       "      <td>direct</td>\n",
       "      <td>1</td>\n",
       "      <td>0</td>\n",
       "      <td>0</td>\n",
       "      <td>0</td>\n",
       "      <td>0</td>\n",
       "      <td>0</td>\n",
       "      <td>...</td>\n",
       "      <td>0</td>\n",
       "      <td>0</td>\n",
       "      <td>0</td>\n",
       "      <td>0</td>\n",
       "      <td>0</td>\n",
       "      <td>0</td>\n",
       "      <td>0</td>\n",
       "      <td>0</td>\n",
       "      <td>0</td>\n",
       "      <td>0</td>\n",
       "    </tr>\n",
       "    <tr>\n",
       "      <th>1</th>\n",
       "      <td>7</td>\n",
       "      <td>Is the Hurricane over or is it not over</td>\n",
       "      <td>Cyclone nan fini osinon li pa fini</td>\n",
       "      <td>direct</td>\n",
       "      <td>1</td>\n",
       "      <td>0</td>\n",
       "      <td>0</td>\n",
       "      <td>1</td>\n",
       "      <td>0</td>\n",
       "      <td>0</td>\n",
       "      <td>...</td>\n",
       "      <td>0</td>\n",
       "      <td>0</td>\n",
       "      <td>1</td>\n",
       "      <td>0</td>\n",
       "      <td>1</td>\n",
       "      <td>0</td>\n",
       "      <td>0</td>\n",
       "      <td>0</td>\n",
       "      <td>0</td>\n",
       "      <td>0</td>\n",
       "    </tr>\n",
       "    <tr>\n",
       "      <th>2</th>\n",
       "      <td>8</td>\n",
       "      <td>Looking for someone but no name</td>\n",
       "      <td>Patnm, di Maryani relem pou li banm nouvel li ...</td>\n",
       "      <td>direct</td>\n",
       "      <td>1</td>\n",
       "      <td>0</td>\n",
       "      <td>0</td>\n",
       "      <td>0</td>\n",
       "      <td>0</td>\n",
       "      <td>0</td>\n",
       "      <td>...</td>\n",
       "      <td>0</td>\n",
       "      <td>0</td>\n",
       "      <td>0</td>\n",
       "      <td>0</td>\n",
       "      <td>0</td>\n",
       "      <td>0</td>\n",
       "      <td>0</td>\n",
       "      <td>0</td>\n",
       "      <td>0</td>\n",
       "      <td>0</td>\n",
       "    </tr>\n",
       "    <tr>\n",
       "      <th>3</th>\n",
       "      <td>9</td>\n",
       "      <td>UN reports Leogane 80-90 destroyed. Only Hospi...</td>\n",
       "      <td>UN reports Leogane 80-90 destroyed. Only Hospi...</td>\n",
       "      <td>direct</td>\n",
       "      <td>1</td>\n",
       "      <td>1</td>\n",
       "      <td>0</td>\n",
       "      <td>1</td>\n",
       "      <td>0</td>\n",
       "      <td>1</td>\n",
       "      <td>...</td>\n",
       "      <td>0</td>\n",
       "      <td>0</td>\n",
       "      <td>0</td>\n",
       "      <td>0</td>\n",
       "      <td>0</td>\n",
       "      <td>0</td>\n",
       "      <td>0</td>\n",
       "      <td>0</td>\n",
       "      <td>0</td>\n",
       "      <td>0</td>\n",
       "    </tr>\n",
       "    <tr>\n",
       "      <th>4</th>\n",
       "      <td>12</td>\n",
       "      <td>says: west side of Haiti, rest of the country ...</td>\n",
       "      <td>facade ouest d Haiti et le reste du pays aujou...</td>\n",
       "      <td>direct</td>\n",
       "      <td>1</td>\n",
       "      <td>0</td>\n",
       "      <td>0</td>\n",
       "      <td>0</td>\n",
       "      <td>0</td>\n",
       "      <td>0</td>\n",
       "      <td>...</td>\n",
       "      <td>0</td>\n",
       "      <td>0</td>\n",
       "      <td>0</td>\n",
       "      <td>0</td>\n",
       "      <td>0</td>\n",
       "      <td>0</td>\n",
       "      <td>0</td>\n",
       "      <td>0</td>\n",
       "      <td>0</td>\n",
       "      <td>0</td>\n",
       "    </tr>\n",
       "  </tbody>\n",
       "</table>\n",
       "<p>5 rows × 40 columns</p>\n",
       "</div>"
      ],
      "text/plain": [
       "   id                                            message  \\\n",
       "0   2  Weather update - a cold front from Cuba that c...   \n",
       "1   7            Is the Hurricane over or is it not over   \n",
       "2   8                    Looking for someone but no name   \n",
       "3   9  UN reports Leogane 80-90 destroyed. Only Hospi...   \n",
       "4  12  says: west side of Haiti, rest of the country ...   \n",
       "\n",
       "                                            original   genre  \\\n",
       "0  Un front froid se retrouve sur Cuba ce matin. ...  direct   \n",
       "1                 Cyclone nan fini osinon li pa fini  direct   \n",
       "2  Patnm, di Maryani relem pou li banm nouvel li ...  direct   \n",
       "3  UN reports Leogane 80-90 destroyed. Only Hospi...  direct   \n",
       "4  facade ouest d Haiti et le reste du pays aujou...  direct   \n",
       "\n",
       "   category_related  category_request  category_offer  category_aid_related  \\\n",
       "0                 1                 0               0                     0   \n",
       "1                 1                 0               0                     1   \n",
       "2                 1                 0               0                     0   \n",
       "3                 1                 1               0                     1   \n",
       "4                 1                 0               0                     0   \n",
       "\n",
       "   category_medical_help  category_medical_products           ...            \\\n",
       "0                      0                          0           ...             \n",
       "1                      0                          0           ...             \n",
       "2                      0                          0           ...             \n",
       "3                      0                          1           ...             \n",
       "4                      0                          0           ...             \n",
       "\n",
       "   category_aid_centers  category_other_infrastructure  \\\n",
       "0                     0                              0   \n",
       "1                     0                              0   \n",
       "2                     0                              0   \n",
       "3                     0                              0   \n",
       "4                     0                              0   \n",
       "\n",
       "   category_weather_related  category_floods  category_storm  category_fire  \\\n",
       "0                         0                0               0              0   \n",
       "1                         1                0               1              0   \n",
       "2                         0                0               0              0   \n",
       "3                         0                0               0              0   \n",
       "4                         0                0               0              0   \n",
       "\n",
       "   category_earthquake  category_cold  category_other_weather  \\\n",
       "0                    0              0                       0   \n",
       "1                    0              0                       0   \n",
       "2                    0              0                       0   \n",
       "3                    0              0                       0   \n",
       "4                    0              0                       0   \n",
       "\n",
       "   category_direct_report  \n",
       "0                       0  \n",
       "1                       0  \n",
       "2                       0  \n",
       "3                       0  \n",
       "4                       0  \n",
       "\n",
       "[5 rows x 40 columns]"
      ]
     },
     "execution_count": 3,
     "metadata": {},
     "output_type": "execute_result"
    }
   ],
   "source": [
    "print(X.shape, y.shape)\n",
    "df.head()"
   ]
  },
  {
   "cell_type": "markdown",
   "metadata": {},
   "source": [
    "### 2. Write a tokenization function to process your text data"
   ]
  },
  {
   "cell_type": "code",
   "execution_count": 4,
   "metadata": {},
   "outputs": [],
   "source": [
    "url_regex = 'http[s]?://(?:[a-zA-Z]|[0-9]|[$-_@.&+]|[!*\\(\\),]|(?:%[0-9a-fA-F][0-9a-fA-F]))+'\n",
    "\n",
    "def tokenize(text):\n",
    "    detected_urls = re.findall(url_regex, text)\n",
    "    for url in detected_urls:\n",
    "        text = text.replace(url, \"urlplaceholder\")\n",
    "\n",
    "    tokens = word_tokenize(text)\n",
    "    lemmatizer = WordNetLemmatizer()\n",
    "\n",
    "    clean_tokens = []\n",
    "    for tok in tokens:\n",
    "        clean_tok = lemmatizer.lemmatize(tok).lower().strip()\n",
    "        clean_tokens.append(clean_tok)\n",
    "\n",
    "    return clean_tokens"
   ]
  },
  {
   "cell_type": "markdown",
   "metadata": {},
   "source": [
    "### 3. Build a machine learning pipeline\n",
    "This machine pipeline should take in the `message` column as input and output classification results on the other 36 categories in the dataset. You may find the [MultiOutputClassifier](http://scikit-learn.org/stable/modules/generated/sklearn.multioutput.MultiOutputClassifier.html) helpful for predicting multiple target variables."
   ]
  },
  {
   "cell_type": "code",
   "execution_count": 5,
   "metadata": {},
   "outputs": [],
   "source": [
    "pipeline = Pipeline([\n",
    "        ('vect', CountVectorizer(tokenizer=tokenize)),\n",
    "        ('tfidf', TfidfTransformer()),\n",
    "        ('clf', MultiOutputClassifier(estimator=RandomForestClassifier()))\n",
    "    ])"
   ]
  },
  {
   "cell_type": "markdown",
   "metadata": {},
   "source": [
    "### 4. Train pipeline\n",
    "- Split data into train and test sets\n",
    "- Train pipeline"
   ]
  },
  {
   "cell_type": "markdown",
   "metadata": {},
   "source": [
    "**Before doing anything:** Notice that there are '2' in y, which does not make sense. I make the assumption to take the mode values, meaning that I replace all 2 by 0. "
   ]
  },
  {
   "cell_type": "code",
   "execution_count": 6,
   "metadata": {},
   "outputs": [
    {
     "name": "stdout",
     "output_type": "stream",
     "text": [
      "category_related contains unique values [1 0 2] where 2 is an unreasonable number.\n",
      "After replacing, we have that the suspecious category now contains only unique values  [1 0]\n"
     ]
    }
   ],
   "source": [
    "# replace all 2 in y by 0 \n",
    "for col in y.columns:\n",
    "    if 2 in y[col].unique():\n",
    "        print(col, 'contains unique values', y[col].unique(), 'where 2 is an unreasonable number.')\n",
    "y = y.replace(2, 0)\n",
    "print('After replacing, we have that the suspecious category now contains only unique values ', y['category_related'].unique())"
   ]
  },
  {
   "cell_type": "code",
   "execution_count": 7,
   "metadata": {},
   "outputs": [],
   "source": [
    "X_train, X_test, y_train, y_test = train_test_split(X, y)\n",
    "pipeline.fit(X_train, y_train)\n",
    "y_pred = pipeline.predict(X_test)"
   ]
  },
  {
   "cell_type": "markdown",
   "metadata": {},
   "source": [
    "### 5. Test your model\n",
    "Report the f1 score, precision and recall for each output category of the dataset. You can do this by iterating through the columns and calling sklearn's `classification_report` on each."
   ]
  },
  {
   "cell_type": "code",
   "execution_count": 8,
   "metadata": {},
   "outputs": [
    {
     "name": "stdout",
     "output_type": "stream",
     "text": [
      "The accuracy score is  0.941422540942\n",
      "\n",
      "The classification report is \n",
      "                                  precision    recall  f1-score   support\n",
      "\n",
      "               category_related       0.82      0.93      0.87      4962\n",
      "               category_request       0.84      0.35      0.50      1141\n",
      "                 category_offer       0.00      0.00      0.00        32\n",
      "           category_aid_related       0.77      0.51      0.61      2744\n",
      "          category_medical_help       0.62      0.04      0.08       567\n",
      "      category_medical_products       0.81      0.09      0.16       341\n",
      "     category_search_and_rescue       0.50      0.02      0.04       188\n",
      "              category_security       1.00      0.02      0.03       118\n",
      "              category_military       0.63      0.08      0.15       205\n",
      "           category_child_alone       0.00      0.00      0.00         0\n",
      "                 category_water       0.83      0.17      0.28       424\n",
      "                  category_food       0.86      0.44      0.59       734\n",
      "               category_shelter       0.78      0.24      0.36       566\n",
      "              category_clothing       1.00      0.09      0.17        87\n",
      "                 category_money       0.70      0.04      0.08       160\n",
      "        category_missing_people       0.00      0.00      0.00        73\n",
      "              category_refugees       0.48      0.05      0.09       219\n",
      "                 category_death       0.76      0.14      0.24       297\n",
      "             category_other_aid       0.53      0.03      0.06       883\n",
      "category_infrastructure_related       0.00      0.00      0.00       433\n",
      "             category_transport       0.66      0.06      0.11       324\n",
      "             category_buildings       0.75      0.07      0.13       332\n",
      "           category_electricity       1.00      0.01      0.02       130\n",
      "                 category_tools       0.00      0.00      0.00        34\n",
      "             category_hospitals       0.00      0.00      0.00        69\n",
      "                 category_shops       0.00      0.00      0.00        34\n",
      "           category_aid_centers       0.00      0.00      0.00        85\n",
      "  category_other_infrastructure       0.20      0.00      0.01       277\n",
      "       category_weather_related       0.84      0.54      0.66      1809\n",
      "                category_floods       0.87      0.27      0.41       539\n",
      "                 category_storm       0.75      0.32      0.45       580\n",
      "                  category_fire       0.00      0.00      0.00        85\n",
      "            category_earthquake       0.89      0.51      0.64       599\n",
      "                  category_cold       0.65      0.09      0.16       121\n",
      "         category_other_weather       0.48      0.03      0.07       344\n",
      "         category_direct_report       0.79      0.29      0.42      1313\n",
      "\n",
      "                    avg / total       0.74      0.44      0.50     20849\n",
      "\n"
     ]
    },
    {
     "name": "stderr",
     "output_type": "stream",
     "text": [
      "/opt/conda/lib/python3.6/site-packages/sklearn/metrics/classification.py:1135: UndefinedMetricWarning: Precision and F-score are ill-defined and being set to 0.0 in labels with no predicted samples.\n",
      "  'precision', 'predicted', average, warn_for)\n",
      "/opt/conda/lib/python3.6/site-packages/sklearn/metrics/classification.py:1137: UndefinedMetricWarning: Recall and F-score are ill-defined and being set to 0.0 in labels with no true samples.\n",
      "  'recall', 'true', average, warn_for)\n"
     ]
    }
   ],
   "source": [
    "print('The accuracy score is ', accuracy_score(y_test.values.flatten(), y_pred.flatten()))\n",
    "print('\\nThe classification report is \\n', classification_report(y_test.values[:,], y_pred, target_names = y_test.columns))"
   ]
  },
  {
   "cell_type": "code",
   "execution_count": 9,
   "metadata": {},
   "outputs": [
    {
     "data": {
      "text/plain": [
       "\"\\nfor i in np.arange(y_pred.shape[1]):\\n    pred = np.transpose(y_pred)[i]\\n    true = y_test[df.columns[i+4]] # select the corrresponding column from y_test\\n    print(df.columns[i+4],'\\n', classification_report(true, pred)) # print the report on each category\\n\""
      ]
     },
     "execution_count": 9,
     "metadata": {},
     "output_type": "execute_result"
    }
   ],
   "source": [
    "'''\n",
    "for i in np.arange(y_pred.shape[1]):\n",
    "    pred = np.transpose(y_pred)[i]\n",
    "    true = y_test[df.columns[i+4]] # select the corrresponding column from y_test\n",
    "    print(df.columns[i+4],'\\n', classification_report(true, pred)) # print the report on each category\n",
    "'''"
   ]
  },
  {
   "cell_type": "markdown",
   "metadata": {},
   "source": [
    "### 6. Improve your model\n",
    "Use grid search to find better parameters. "
   ]
  },
  {
   "cell_type": "code",
   "execution_count": 10,
   "metadata": {},
   "outputs": [],
   "source": [
    "def build_model(pipeline = pipeline):\n",
    "    '''\n",
    "    build a model and use grid search to find better parameters\n",
    "    Input:\n",
    "        pipeline: the machine learning pipeline that has been built before\n",
    "    Output:\n",
    "        cv: from GridSearchCV\n",
    "        (the best parameters are also printed)\n",
    "    '''\n",
    "    \n",
    "    parameters = {\n",
    "            'clf__estimator__n_estimators': [10, 20, 30],\n",
    "            'clf__estimator__min_samples_split': [2, 4, 6],\n",
    "        }\n",
    "\n",
    "    cv = GridSearchCV(pipeline, param_grid=parameters)\n",
    "    \n",
    "    return cv"
   ]
  },
  {
   "cell_type": "code",
   "execution_count": 11,
   "metadata": {},
   "outputs": [
    {
     "name": "stdout",
     "output_type": "stream",
     "text": [
      "Model training time =  2464.4249551296234  seconds.\n"
     ]
    }
   ],
   "source": [
    "begin = time.time()\n",
    "\n",
    "model = build_model()\n",
    "model.fit(X_train, y_train)\n",
    "y_pred_tuned = model.predict(X_test)\n",
    "\n",
    "finish = time.time()\n",
    "print(\"Model training time = \", finish - begin, \" seconds.\")"
   ]
  },
  {
   "cell_type": "markdown",
   "metadata": {},
   "source": [
    "### 7. Test your model\n",
    "Show the accuracy, precision, and recall of the tuned model.  \n",
    "\n",
    "Since this project focuses on code quality, process, and  pipelines, there is no minimum performance metric needed to pass. However, make sure to fine tune your models for accuracy, precision and recall to make your project stand out - especially for your portfolio!"
   ]
  },
  {
   "cell_type": "code",
   "execution_count": 13,
   "metadata": {},
   "outputs": [
    {
     "name": "stdout",
     "output_type": "stream",
     "text": [
      "\n",
      "Best Parameters: {'clf__estimator__min_samples_split': 4, 'clf__estimator__n_estimators': 30}\n",
      "After tuning, the accuracy score is  0.944457159326\n",
      "\n",
      "The classification report is \n",
      "                                  precision    recall  f1-score   support\n",
      "\n",
      "               category_related       0.80      0.97      0.88      4962\n",
      "               category_request       0.86      0.40      0.55      1141\n",
      "                 category_offer       0.00      0.00      0.00        32\n",
      "           category_aid_related       0.77      0.61      0.68      2744\n",
      "          category_medical_help       0.65      0.06      0.11       567\n",
      "      category_medical_products       0.81      0.08      0.14       341\n",
      "     category_search_and_rescue       0.71      0.06      0.12       188\n",
      "              category_security       0.67      0.02      0.03       118\n",
      "              category_military       0.73      0.05      0.10       205\n",
      "           category_child_alone       0.00      0.00      0.00         0\n",
      "                 category_water       0.88      0.29      0.43       424\n",
      "                  category_food       0.84      0.38      0.53       734\n",
      "               category_shelter       0.82      0.30      0.44       566\n",
      "              category_clothing       0.80      0.09      0.16        87\n",
      "                 category_money       1.00      0.02      0.04       160\n",
      "        category_missing_people       0.00      0.00      0.00        73\n",
      "              category_refugees       0.25      0.01      0.02       219\n",
      "                 category_death       0.68      0.11      0.20       297\n",
      "             category_other_aid       0.56      0.02      0.03       883\n",
      "category_infrastructure_related       0.67      0.00      0.01       433\n",
      "             category_transport       0.70      0.08      0.14       324\n",
      "             category_buildings       0.83      0.09      0.16       332\n",
      "           category_electricity       0.75      0.02      0.04       130\n",
      "                 category_tools       0.00      0.00      0.00        34\n",
      "             category_hospitals       0.00      0.00      0.00        69\n",
      "                 category_shops       0.00      0.00      0.00        34\n",
      "           category_aid_centers       0.00      0.00      0.00        85\n",
      "  category_other_infrastructure       0.00      0.00      0.00       277\n",
      "       category_weather_related       0.84      0.57      0.68      1809\n",
      "                category_floods       0.89      0.39      0.54       539\n",
      "                 category_storm       0.76      0.46      0.58       580\n",
      "                  category_fire       1.00      0.01      0.02        85\n",
      "            category_earthquake       0.89      0.75      0.81       599\n",
      "                  category_cold       0.77      0.08      0.15       121\n",
      "         category_other_weather       0.59      0.05      0.09       344\n",
      "         category_direct_report       0.84      0.33      0.47      1313\n",
      "\n",
      "                    avg / total       0.76      0.49      0.53     20849\n",
      "\n"
     ]
    },
    {
     "name": "stderr",
     "output_type": "stream",
     "text": [
      "/opt/conda/lib/python3.6/site-packages/sklearn/metrics/classification.py:1135: UndefinedMetricWarning: Precision and F-score are ill-defined and being set to 0.0 in labels with no predicted samples.\n",
      "  'precision', 'predicted', average, warn_for)\n",
      "/opt/conda/lib/python3.6/site-packages/sklearn/metrics/classification.py:1137: UndefinedMetricWarning: Recall and F-score are ill-defined and being set to 0.0 in labels with no true samples.\n",
      "  'recall', 'true', average, warn_for)\n"
     ]
    }
   ],
   "source": [
    "print(\"\\nBest Parameters:\", model.best_params_)\n",
    "print('After tuning, the accuracy score is ', accuracy_score(y_test.values.flatten(), y_pred_tuned.flatten()))\n",
    "print('\\nThe classification report is \\n', classification_report(y_test.values[:,], y_pred_tuned, target_names = y_test.columns))"
   ]
  },
  {
   "cell_type": "markdown",
   "metadata": {},
   "source": [
    "### 8. Try improving your model further. Here are a few ideas:\n",
    "* try other machine learning algorithms\n",
    "* add other features besides the TF-IDF"
   ]
  },
  {
   "cell_type": "code",
   "execution_count": 15,
   "metadata": {},
   "outputs": [
    {
     "name": "stdout",
     "output_type": "stream",
     "text": [
      "Model training time =  1176.4351541996002  seconds.\n",
      "The accuracy score is  0.931153154986\n",
      "\n",
      "The classification report is \n",
      "                                  precision    recall  f1-score   support\n",
      "\n",
      "               category_related       0.81      0.91      0.86      4962\n",
      "               category_request       0.90      0.28      0.43      1141\n",
      "                 category_offer       0.00      0.00      0.00        32\n",
      "           category_aid_related       0.87      0.14      0.24      2744\n",
      "          category_medical_help       0.50      0.00      0.00       567\n",
      "      category_medical_products       1.00      0.01      0.02       341\n",
      "     category_search_and_rescue       0.00      0.00      0.00       188\n",
      "              category_security       0.00      0.00      0.00       118\n",
      "              category_military       0.00      0.00      0.00       205\n",
      "           category_child_alone       0.00      0.00      0.00         0\n",
      "                 category_water       0.92      0.03      0.05       424\n",
      "                  category_food       0.86      0.11      0.19       734\n",
      "               category_shelter       0.88      0.04      0.08       566\n",
      "              category_clothing       0.00      0.00      0.00        87\n",
      "                 category_money       0.00      0.00      0.00       160\n",
      "        category_missing_people       0.00      0.00      0.00        73\n",
      "              category_refugees       0.00      0.00      0.00       219\n",
      "                 category_death       0.00      0.00      0.00       297\n",
      "             category_other_aid       0.50      0.00      0.00       883\n",
      "category_infrastructure_related       0.00      0.00      0.00       433\n",
      "             category_transport       0.00      0.00      0.00       324\n",
      "             category_buildings       0.33      0.00      0.01       332\n",
      "           category_electricity       0.00      0.00      0.00       130\n",
      "                 category_tools       0.00      0.00      0.00        34\n",
      "             category_hospitals       0.00      0.00      0.00        69\n",
      "                 category_shops       0.00      0.00      0.00        34\n",
      "           category_aid_centers       0.00      0.00      0.00        85\n",
      "  category_other_infrastructure       0.00      0.00      0.00       277\n",
      "       category_weather_related       0.86      0.08      0.14      1809\n",
      "                category_floods       1.00      0.00      0.01       539\n",
      "                 category_storm       0.17      0.00      0.00       580\n",
      "                  category_fire       0.00      0.00      0.00        85\n",
      "            category_earthquake       0.89      0.22      0.35       599\n",
      "                  category_cold       0.00      0.00      0.00       121\n",
      "         category_other_weather       0.00      0.00      0.00       344\n",
      "         category_direct_report       0.87      0.22      0.35      1313\n",
      "\n",
      "                    avg / total       0.67      0.28      0.31     20849\n",
      "\n"
     ]
    },
    {
     "name": "stderr",
     "output_type": "stream",
     "text": [
      "/opt/conda/lib/python3.6/site-packages/sklearn/metrics/classification.py:1135: UndefinedMetricWarning: Precision and F-score are ill-defined and being set to 0.0 in labels with no predicted samples.\n",
      "  'precision', 'predicted', average, warn_for)\n",
      "/opt/conda/lib/python3.6/site-packages/sklearn/metrics/classification.py:1137: UndefinedMetricWarning: Recall and F-score are ill-defined and being set to 0.0 in labels with no true samples.\n",
      "  'recall', 'true', average, warn_for)\n"
     ]
    }
   ],
   "source": [
    "# let's try using bagging with knn\n",
    "from sklearn.ensemble import BaggingClassifier\n",
    "from sklearn.neighbors import KNeighborsClassifier\n",
    "bagging = BaggingClassifier(KNeighborsClassifier(),max_samples=0.5, max_features=0.5)\n",
    "pipeline_bag = Pipeline([\n",
    "        ('vect', CountVectorizer(tokenizer=tokenize)),\n",
    "        ('tfidf', TfidfTransformer()),\n",
    "        ('bag', MultiOutputClassifier(estimator=bagging))\n",
    "    ])\n",
    "\n",
    "begin = time.time()\n",
    "\n",
    "pipeline_bag.fit(X_train, y_train)\n",
    "y_pred_bag = pipeline_bag.predict(X_test)\n",
    "\n",
    "finish = time.time()\n",
    "print(\"Model training time = \", finish - begin, \" seconds.\")\n",
    "\n",
    "print('The accuracy score is ', accuracy_score(y_test.values.flatten(), y_pred_bag.flatten()))\n",
    "print('\\nThe classification report is \\n', classification_report(y_test.values[:,], y_pred_bag, target_names = y_test.columns))"
   ]
  },
  {
   "cell_type": "markdown",
   "metadata": {},
   "source": [
    "### 9. Export your model as a pickle file"
   ]
  },
  {
   "cell_type": "code",
   "execution_count": null,
   "metadata": {},
   "outputs": [],
   "source": [
    "import pickle\n",
    "def save_model(model, model_filepath):\n",
    "    \"\"\" Saving model's best_estimator_ using pickle\n",
    "    \"\"\"\n",
    "    pickle.dump(model, open(model_filepath, 'wb'))\n",
    "    \n",
    "save_model(model, 'model.pkl')"
   ]
  },
  {
   "cell_type": "markdown",
   "metadata": {},
   "source": [
    "### 10. Use this notebook to complete `train.py`\n",
    "Use the template file attached in the Resources folder to write a script that runs the steps above to create a database and export a model based on a new dataset specified by the user."
   ]
  },
  {
   "cell_type": "code",
   "execution_count": null,
   "metadata": {},
   "outputs": [],
   "source": []
  }
 ],
 "metadata": {
  "kernelspec": {
   "display_name": "Python 3",
   "language": "python",
   "name": "python3"
  },
  "language_info": {
   "codemirror_mode": {
    "name": "ipython",
    "version": 3
   },
   "file_extension": ".py",
   "mimetype": "text/x-python",
   "name": "python",
   "nbconvert_exporter": "python",
   "pygments_lexer": "ipython3",
   "version": "3.6.3"
  }
 },
 "nbformat": 4,
 "nbformat_minor": 2
}
